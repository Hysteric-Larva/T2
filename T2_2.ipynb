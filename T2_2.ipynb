{
 "cells": [
  {
   "cell_type": "markdown",
   "metadata": {},
   "source": [
    "<a id=\"segundo\"></a>\n",
    "## 2. Un problema* Multi-label*\n",
    "\n",
    "<img src=\"https://files.virgool.io/upload/users/12226/posts/oxo6jvmweqmr/1ios2rcvohwc.png\" width=\"35%\" style=\"float: right;\" />\n",
    "\n",
    "Un tipo de problema un poco diferente a la clásica clasificación que hemos visto es el de etiquetación múltiple o *multi-label* [[5]](#refs), en donde se debe asignar una *o un grupo* de etiquetas a un dato, es decir, puede ser tratado como un problema de clasificación donde las clases pasan a ser **NO** mutuamente excluyente, es decir puede ser asignada más de una a un dato. Este problema se ve muchas veces en imágenes que contienen más de algun objeto, por lo que las clases pasan a ser no excluyente, o en sí se transforma en un problema de *multi-label*. También aparece en texto cuando se debe asignar un tópico a un documento, ya que podría hablar de diferentes cosas, como religión, política, finanzas o educación, por lo que podría contener varios.\n",
    "\n",
    "\n",
    "En esta actividad se trabajará con una versión liviana del dataset __[**NUS-WIDE**](https://lms.comp.nus.edu.sg/research/NUS-WIDE.htm)__ , el cual consta de imágenes extraídas de la web (Flickr.com) en donde los diferentes *tags* o conceptos asociados a la imagen pasan a ser las etiquetas/*labels*. De la página donde se alberga NUS-WIDE será necesario descargar:\n",
    "* Concept List: http://dl.nextcenter.org/public/nuswide/ConceptsList.zip\n",
    "* NUS-WIDE-Lite: http://dl.nextcenter.org/public/nuswide/NUS-WIDE-Lite.rar\n",
    "* NUS-WIDE-Urls: http://dl.nextcenter.org/public/nuswide/NUS-WIDE-urls.rar\n",
    "\n",
    "> a) Cargue los datos del *output* del modelo (*labels*), descríbalos ¿Cuántos ejemplos hay por cada clase?"
   ]
  },
  {
   "cell_type": "code",
   "execution_count": 4,
   "metadata": {},
   "outputs": [
    {
     "name": "stderr",
     "output_type": "stream",
     "text": [
      "C:\\Users\\kzep\\Anaconda3\\lib\\site-packages\\ipykernel_launcher.py:3: ParserWarning: Falling back to the 'python' engine because the 'c' engine does not support regex separators (separators > 1 char and different from '\\s+' are interpreted as regex); you can avoid this warning by specifying engine='python'.\n",
      "  This is separate from the ipykernel package so we can avoid doing imports until\n"
     ]
    },
    {
     "data": {
      "text/plain": [
       "(27807, 81)"
      ]
     },
     "execution_count": 4,
     "metadata": {},
     "output_type": "execute_result"
    }
   ],
   "source": [
    "import pandas as pd\n",
    "import numpy as np\n",
    "y = pd.read_csv(\"NUS-WIDE-Lite/NUS-WIDE-Lite_groundtruth/Lite_GT_Train.txt\",delimiter=\"\\s\",header=None).values\n",
    "y.shape"
   ]
  },
  {
   "cell_type": "markdown",
   "metadata": {},
   "source": [
    "> b) Visualice el tema de que un dato  (imagen en este caso) puede tener múltiples etiquetas. Comente sobre la definición del problema *multi-label* y cómo aplica en este caso."
   ]
  },
  {
   "cell_type": "code",
   "execution_count": 15,
   "metadata": {},
   "outputs": [
    {
     "name": "stdout",
     "output_type": "stream",
     "text": [
      "Etiquetas de la imagen : ['boats' 'clouds' 'lake' 'ocean' 'sky' 'sun' 'sunset' 'water']\n"
     ]
    }
   ],
   "source": [
    "import urllib,re\n",
    "label_names = np.loadtxt(\"./Concepts81.txt\",dtype='object')\n",
    "arch = open(\"NUS-WIDE-urls.txt\",'r') #lectura para mapeo de link a url\n",
    "regex = re.compile(\"\\s+\")\n",
    "image2url = {}\n",
    "for line in arch.readlines():\n",
    "    aux = regex.split(line.strip())\n",
    "    image = aux[0].split(\"Flickr\\\\\")[-1]\n",
    "    url_m = aux[3]\n",
    "    image2url[image] = url_m\n",
    "arch.close()\n",
    "arch = open(\"NUS-WIDE-Lite/image list/Train_imageOutPutFileList.txt\",'r')\n",
    "data_urls = [image2url[line.strip()] for line in arch.readlines()]\n",
    "arch.close()\n",
    "\"\"\"Visualizacion\"\"\"\n",
    "from PIL import Image\n",
    "s = np.random.randint(0,len(data_urls)) #mostrar para una imagen random\n",
    "category_sample = np.where(y[s]==1)[0] \n",
    "print(\"Etiquetas de la imagen :\",label_names[category_sample])\n",
    "im = Image.open(urllib.request.urlopen(data_urls[s]))"
   ]
  },
  {
   "cell_type": "code",
   "execution_count": null,
   "metadata": {},
   "outputs": [],
   "source": []
  }
 ],
 "metadata": {
  "kernelspec": {
   "display_name": "Python 3",
   "language": "python",
   "name": "python3"
  },
  "language_info": {
   "codemirror_mode": {
    "name": "ipython",
    "version": 3
   },
   "file_extension": ".py",
   "mimetype": "text/x-python",
   "name": "python",
   "nbconvert_exporter": "python",
   "pygments_lexer": "ipython3",
   "version": "3.6.5"
  }
 },
 "nbformat": 4,
 "nbformat_minor": 2
}
