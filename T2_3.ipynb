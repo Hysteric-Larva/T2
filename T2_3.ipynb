{
 "cells": [
  {
   "cell_type": "markdown",
   "metadata": {},
   "source": [
    "<a id=\"tercero\"></a>\n",
    "\n",
    "## 3. *Taxi Trip Duration*: Predicción de duración de viaje\n",
    "\n",
    "<img src=\"https://upload.wikimedia.org/wikipedia/commons/4/4d/Newyorkcity_taxi_motion_banner.jpg\" />\n",
    "\n",
    "\n",
    "En esta actividad trabajaremos con un dataset de una competencia en la plataforma Kaggle, el cual se llama **New York City Taxi Trip Duration** y que puede ser accedido a través del siguiente __[link](https://www.kaggle.com/c/nyc-taxi-trip-duration/)__. Como se puede ver es una competencia para predecir la duración del viaje de un taxi en Nueva York, por lo que es un problema de regresión que resulta altamente no lineal  y no determinista debido a las invariantes que tiene, por ejemplo un viaje de un punto a otro puede durar distinto tiempo dependiendo de múltiples factores, como el horario, la congestión de ese día u otros.\n",
    "\n",
    "La métrica de evaluación de la competencia y la que utlizaremos será el RMSLE (*Root Mean Squared Logarithm Error*):\n",
    "\n",
    "$$\n",
    "E(y,\\hat{y}) = \\sqrt{ \\frac{1}{n} \\sum_{i=1}^n \\left( \\log{(y_i +1)}- \\log{(\\hat{y}_i+1}) \\right)^2}\n",
    "$$\n",
    "\n",
    "O en código Python:"
   ]
  },
  {
   "cell_type": "code",
   "execution_count": 1,
   "metadata": {},
   "outputs": [],
   "source": [
    "import numpy as np\n",
    "def rmsle(predicted,real):    \n",
    "    suma=0.0\n",
    "    for x in range(len(predicted)):\n",
    "        p = np.log(predicted[x]+1)\n",
    "        r = np.log(real[x]+1)\n",
    "        suma += np.power((p - r),2)\n",
    "    return np.sqrt(suma/len(predicted))"
   ]
  },
  {
   "cell_type": "markdown",
   "metadata": {},
   "source": [
    "Además se integran algunas funciones que serán utilzazas en este "
   ]
  },
  {
   "cell_type": "code",
   "execution_count": 2,
   "metadata": {},
   "outputs": [],
   "source": [
    "import matplotlib.pyplot as plt\n",
    "def graficar_predicciones(real,predecido):\n",
    "    plt.figure(figsize=(12,8))\n",
    "    plt.plot(real,predecido,'b.')\n",
    "    valor_max = int( np.max( [np.max(predecido),np.max(real)]))\n",
    "    valor_min = int( np.min( [np.min(predecido),np.min(real)]))\n",
    "    plt.plot(range(valor_min,valor_max+1), range(valor_min,valor_max+1), color =\"r\")\n",
    "    plt.axis('tight')\n",
    "    plt.xlabel('Valor Real')\n",
    "    plt.ylabel('Prediccion')\n",
    "    plt.show()\n"
   ]
  },
  {
   "cell_type": "code",
   "execution_count": 3,
   "metadata": {},
   "outputs": [],
   "source": [
    "def critical(train,test):\n",
    "    error_min = 9999999\n",
    "    error=0\n",
    "    index = 0\n",
    "    for i in range(len(train)):\n",
    "        error = abs(train[i] - test[i])\n",
    "        if error<error_min:\n",
    "            error_min = error\n",
    "            index=i\n",
    "    return error_min,index;"
   ]
  },
  {
   "cell_type": "markdown",
   "metadata": {},
   "source": [
    "Descarge los datos de la competencia, únicamente trabajaremos con el archivo *train.zip* o *train.csv*, ya que no conocemos los valores reales del conjunto *test*, tendrémos que simularlo.\n"
   ]
  },
  {
   "cell_type": "markdown",
   "metadata": {},
   "source": [
    "> a) Cargue los datos de entrenamiento como *dataframes* de pandas. Describa las variables involucradas en el problema, explorando el tipo de datos de que se trata, el número de valores distinto. Grafique adecuadamente el valor a predecir con algún gráfico que resuma su comportamiento, e.g. un histograma, boxplot u otro."
   ]
  },
  {
   "cell_type": "code",
   "execution_count": 4,
   "metadata": {},
   "outputs": [
    {
     "name": "stdout",
     "output_type": "stream",
     "text": [
      "<class 'pandas.core.frame.DataFrame'>\n",
      "RangeIndex: 1458644 entries, 0 to 1458643\n",
      "Data columns (total 11 columns):\n",
      "id                    1458644 non-null object\n",
      "vendor_id             1458644 non-null int64\n",
      "pickup_datetime       1458644 non-null object\n",
      "dropoff_datetime      1458644 non-null object\n",
      "passenger_count       1458644 non-null int64\n",
      "pickup_longitude      1458644 non-null float64\n",
      "pickup_latitude       1458644 non-null float64\n",
      "dropoff_longitude     1458644 non-null float64\n",
      "dropoff_latitude      1458644 non-null float64\n",
      "store_and_fwd_flag    1458644 non-null object\n",
      "trip_duration         1458644 non-null int64\n",
      "dtypes: float64(4), int64(3), object(4)\n",
      "memory usage: 122.4+ MB\n"
     ]
    }
   ],
   "source": [
    "import pandas as pd\n",
    "df = pd.read_csv(\"train.csv\")\n",
    "df.info()\n",
    "df.head()\n",
    "output = df['trip_duration'].values"
   ]
  },
  {
   "cell_type": "code",
   "execution_count": null,
   "metadata": {},
   "outputs": [],
   "source": [
    "import seaborn as sns\n",
    "import matplotlib.pyplot as plt\n",
    "%matplotlib inline\n",
    "sns.countplot(x= \"trip_duration\",data=df)\n",
    "plt.rcParams['xtick.labelsize'] = 13\n",
    "plt.rcParams['axes.labelsize'] = 20\n",
    "plt.xticks(rotation=70)"
   ]
  },
  {
   "cell_type": "markdown",
   "metadata": {},
   "source": [
    "> b) Como puede  observar en los análisis preliminares exiten algunos *outliers* en los datos los cuales pensamos eliminar para que no entorpezca el aprendizaje, además que son muy pocos."
   ]
  },
  {
   "cell_type": "code",
   "execution_count": 5,
   "metadata": {},
   "outputs": [
    {
     "name": "stdout",
     "output_type": "stream",
     "text": [
      "<class 'pandas.core.frame.DataFrame'>\n",
      "Int64Index: 1456521 entries, 0 to 1458643\n",
      "Data columns (total 11 columns):\n",
      "id                    1456521 non-null object\n",
      "vendor_id             1456521 non-null int64\n",
      "pickup_datetime       1456521 non-null object\n",
      "dropoff_datetime      1456521 non-null object\n",
      "passenger_count       1456521 non-null int64\n",
      "pickup_longitude      1456521 non-null float64\n",
      "pickup_latitude       1456521 non-null float64\n",
      "dropoff_longitude     1456521 non-null float64\n",
      "dropoff_latitude      1456521 non-null float64\n",
      "store_and_fwd_flag    1456521 non-null object\n",
      "trip_duration         1456521 non-null int64\n",
      "dtypes: float64(4), int64(3), object(4)\n",
      "memory usage: 133.3+ MB\n"
     ]
    }
   ],
   "source": [
    "\n",
    "df = df[(df['trip_duration']<=10000)]\n",
    "df.info()"
   ]
  },
  {
   "cell_type": "code",
   "execution_count": 6,
   "metadata": {},
   "outputs": [
    {
     "data": {
      "text/html": [
       "<div>\n",
       "<style scoped>\n",
       "    .dataframe tbody tr th:only-of-type {\n",
       "        vertical-align: middle;\n",
       "    }\n",
       "\n",
       "    .dataframe tbody tr th {\n",
       "        vertical-align: top;\n",
       "    }\n",
       "\n",
       "    .dataframe thead th {\n",
       "        text-align: right;\n",
       "    }\n",
       "</style>\n",
       "<table border=\"1\" class=\"dataframe\">\n",
       "  <thead>\n",
       "    <tr style=\"text-align: right;\">\n",
       "      <th></th>\n",
       "      <th>id</th>\n",
       "      <th>vendor_id</th>\n",
       "      <th>pickup_datetime</th>\n",
       "      <th>dropoff_datetime</th>\n",
       "      <th>passenger_count</th>\n",
       "      <th>pickup_longitude</th>\n",
       "      <th>pickup_latitude</th>\n",
       "      <th>dropoff_longitude</th>\n",
       "      <th>dropoff_latitude</th>\n",
       "      <th>store_and_fwd_flag</th>\n",
       "      <th>trip_duration</th>\n",
       "    </tr>\n",
       "  </thead>\n",
       "  <tbody>\n",
       "    <tr>\n",
       "      <th>0</th>\n",
       "      <td>id2875421</td>\n",
       "      <td>2</td>\n",
       "      <td>2016-03-14 17:24:55</td>\n",
       "      <td>2016-03-14 17:32:30</td>\n",
       "      <td>1</td>\n",
       "      <td>-73.982155</td>\n",
       "      <td>40.767937</td>\n",
       "      <td>-73.964630</td>\n",
       "      <td>40.765602</td>\n",
       "      <td>N</td>\n",
       "      <td>455</td>\n",
       "    </tr>\n",
       "    <tr>\n",
       "      <th>1</th>\n",
       "      <td>id2377394</td>\n",
       "      <td>1</td>\n",
       "      <td>2016-06-12 00:43:35</td>\n",
       "      <td>2016-06-12 00:54:38</td>\n",
       "      <td>1</td>\n",
       "      <td>-73.980415</td>\n",
       "      <td>40.738564</td>\n",
       "      <td>-73.999481</td>\n",
       "      <td>40.731152</td>\n",
       "      <td>N</td>\n",
       "      <td>663</td>\n",
       "    </tr>\n",
       "    <tr>\n",
       "      <th>2</th>\n",
       "      <td>id3858529</td>\n",
       "      <td>2</td>\n",
       "      <td>2016-01-19 11:35:24</td>\n",
       "      <td>2016-01-19 12:10:48</td>\n",
       "      <td>1</td>\n",
       "      <td>-73.979027</td>\n",
       "      <td>40.763939</td>\n",
       "      <td>-74.005333</td>\n",
       "      <td>40.710087</td>\n",
       "      <td>N</td>\n",
       "      <td>2124</td>\n",
       "    </tr>\n",
       "  </tbody>\n",
       "</table>\n",
       "</div>"
      ],
      "text/plain": [
       "          id  vendor_id      pickup_datetime     dropoff_datetime  \\\n",
       "0  id2875421          2  2016-03-14 17:24:55  2016-03-14 17:32:30   \n",
       "1  id2377394          1  2016-06-12 00:43:35  2016-06-12 00:54:38   \n",
       "2  id3858529          2  2016-01-19 11:35:24  2016-01-19 12:10:48   \n",
       "\n",
       "   passenger_count  pickup_longitude  pickup_latitude  dropoff_longitude  \\\n",
       "0                1        -73.982155        40.767937         -73.964630   \n",
       "1                1        -73.980415        40.738564         -73.999481   \n",
       "2                1        -73.979027        40.763939         -74.005333   \n",
       "\n",
       "   dropoff_latitude store_and_fwd_flag  trip_duration  \n",
       "0         40.765602                  N            455  \n",
       "1         40.731152                  N            663  \n",
       "2         40.710087                  N           2124  "
      ]
     },
     "execution_count": 6,
     "metadata": {},
     "output_type": "execute_result"
    }
   ],
   "source": [
    "df.head(3)"
   ]
  },
  {
   "cell_type": "markdown",
   "metadata": {},
   "source": [
    "> c) La primera operación que realizaremos a los datos como pre-procesamiento será la de extraer/generar características de manera manual de algunos atributos que resulta necesario hcaer, como desde la fecha (string) puede ser extraída la hora del día, creando una nueva columna denominada *hour* y de tipo *int* discreto, o bien, para la localización del viaje punto a punto se pueden extraer distintas **medidas de distancia**. Comente sobre el pre-procesamiento realizado. "
   ]
  },
  {
   "cell_type": "code",
   "execution_count": 7,
   "metadata": {},
   "outputs": [
    {
     "data": {
      "text/html": [
       "<div>\n",
       "<style scoped>\n",
       "    .dataframe tbody tr th:only-of-type {\n",
       "        vertical-align: middle;\n",
       "    }\n",
       "\n",
       "    .dataframe tbody tr th {\n",
       "        vertical-align: top;\n",
       "    }\n",
       "\n",
       "    .dataframe thead th {\n",
       "        text-align: right;\n",
       "    }\n",
       "</style>\n",
       "<table border=\"1\" class=\"dataframe\">\n",
       "  <thead>\n",
       "    <tr style=\"text-align: right;\">\n",
       "      <th></th>\n",
       "      <th>passenger_count</th>\n",
       "      <th>pickup_longitude</th>\n",
       "      <th>pickup_latitude</th>\n",
       "      <th>dropoff_longitude</th>\n",
       "      <th>dropoff_latitude</th>\n",
       "      <th>trip_duration</th>\n",
       "      <th>hour</th>\n",
       "      <th>cday</th>\n",
       "      <th>month</th>\n",
       "      <th>distancia_viaje</th>\n",
       "      <th>distancia_viaje_km</th>\n",
       "      <th>grado_direccion</th>\n",
       "      <th>season</th>\n",
       "      <th>holiday</th>\n",
       "    </tr>\n",
       "  </thead>\n",
       "  <tbody>\n",
       "    <tr>\n",
       "      <th>0</th>\n",
       "      <td>1</td>\n",
       "      <td>-73.982155</td>\n",
       "      <td>40.767937</td>\n",
       "      <td>-73.964630</td>\n",
       "      <td>40.765602</td>\n",
       "      <td>455</td>\n",
       "      <td>17</td>\n",
       "      <td>0</td>\n",
       "      <td>3</td>\n",
       "      <td>0.017680</td>\n",
       "      <td>1.498523</td>\n",
       "      <td>99.970196</td>\n",
       "      <td>1</td>\n",
       "      <td>0</td>\n",
       "    </tr>\n",
       "    <tr>\n",
       "      <th>1</th>\n",
       "      <td>1</td>\n",
       "      <td>-73.980415</td>\n",
       "      <td>40.738564</td>\n",
       "      <td>-73.999481</td>\n",
       "      <td>40.731152</td>\n",
       "      <td>663</td>\n",
       "      <td>0</td>\n",
       "      <td>6</td>\n",
       "      <td>6</td>\n",
       "      <td>0.020456</td>\n",
       "      <td>1.805510</td>\n",
       "      <td>242.846232</td>\n",
       "      <td>2</td>\n",
       "      <td>0</td>\n",
       "    </tr>\n",
       "    <tr>\n",
       "      <th>2</th>\n",
       "      <td>1</td>\n",
       "      <td>-73.979027</td>\n",
       "      <td>40.763939</td>\n",
       "      <td>-74.005333</td>\n",
       "      <td>40.710087</td>\n",
       "      <td>2124</td>\n",
       "      <td>11</td>\n",
       "      <td>1</td>\n",
       "      <td>1</td>\n",
       "      <td>0.059934</td>\n",
       "      <td>6.385108</td>\n",
       "      <td>200.319835</td>\n",
       "      <td>0</td>\n",
       "      <td>0</td>\n",
       "    </tr>\n",
       "    <tr>\n",
       "      <th>3</th>\n",
       "      <td>1</td>\n",
       "      <td>-74.010040</td>\n",
       "      <td>40.719971</td>\n",
       "      <td>-74.012268</td>\n",
       "      <td>40.706718</td>\n",
       "      <td>429</td>\n",
       "      <td>19</td>\n",
       "      <td>2</td>\n",
       "      <td>4</td>\n",
       "      <td>0.013438</td>\n",
       "      <td>1.485501</td>\n",
       "      <td>187.262300</td>\n",
       "      <td>1</td>\n",
       "      <td>0</td>\n",
       "    </tr>\n",
       "    <tr>\n",
       "      <th>4</th>\n",
       "      <td>1</td>\n",
       "      <td>-73.973053</td>\n",
       "      <td>40.793209</td>\n",
       "      <td>-73.972923</td>\n",
       "      <td>40.782520</td>\n",
       "      <td>435</td>\n",
       "      <td>13</td>\n",
       "      <td>5</td>\n",
       "      <td>3</td>\n",
       "      <td>0.010690</td>\n",
       "      <td>1.188590</td>\n",
       "      <td>179.473585</td>\n",
       "      <td>1</td>\n",
       "      <td>0</td>\n",
       "    </tr>\n",
       "  </tbody>\n",
       "</table>\n",
       "</div>"
      ],
      "text/plain": [
       "   passenger_count  pickup_longitude  pickup_latitude  dropoff_longitude  \\\n",
       "0                1        -73.982155        40.767937         -73.964630   \n",
       "1                1        -73.980415        40.738564         -73.999481   \n",
       "2                1        -73.979027        40.763939         -74.005333   \n",
       "3                1        -74.010040        40.719971         -74.012268   \n",
       "4                1        -73.973053        40.793209         -73.972923   \n",
       "\n",
       "   dropoff_latitude  trip_duration  hour  cday  month  distancia_viaje  \\\n",
       "0         40.765602            455    17     0      3         0.017680   \n",
       "1         40.731152            663     0     6      6         0.020456   \n",
       "2         40.710087           2124    11     1      1         0.059934   \n",
       "3         40.706718            429    19     2      4         0.013438   \n",
       "4         40.782520            435    13     5      3         0.010690   \n",
       "\n",
       "   distancia_viaje_km  grado_direccion  season  holiday  \n",
       "0            1.498523        99.970196       1        0  \n",
       "1            1.805510       242.846232       2        0  \n",
       "2            6.385108       200.319835       0        0  \n",
       "3            1.485501       187.262300       1        0  \n",
       "4            1.188590       179.473585       1        0  "
      ]
     },
     "execution_count": 7,
     "metadata": {},
     "output_type": "execute_result"
    }
   ],
   "source": [
    "from geopy.distance import great_circle\n",
    "import numpy as np\n",
    "\"\"\"extraer caract geograficas\"\"\"\n",
    "def distance(p_lat,p_long,d_lat,d_long):\n",
    "    pickup = (p_lat, p_long)\n",
    "    dropoff = (d_lat, d_long)\n",
    "    distance_all=great_circle(pickup, dropoff).km\n",
    "    return distance_all\n",
    "def grado(p_lat,p_long,d_lat,d_long):\n",
    "    lat1= np.radians(p_lat)\n",
    "    lat2= np.radians(d_lat)\n",
    "    dLon = np.radians(d_long - p_long)\n",
    "    y = np.sin(dLon)*np.cos(lat2)\n",
    "    x = np.cos(lat1)*np.sin(lat2) - np.sin(lat1)*np.cos(lat2)*np.cos(dLon)\n",
    "    return (np.degrees( np.arctan2(y,x) ) + 360 ) %360\n",
    "from pandas.tseries.holiday import USFederalHolidayCalendar\n",
    "cal = USFederalHolidayCalendar()\n",
    "holidays = cal.holidays(start='2015',end='2017')\n",
    "def preprocesar(df):\n",
    "    df.fillna(0,inplace=True)\n",
    "    \"\"\"transformar fechas a tiempos\"\"\"\n",
    "    df['hour'] = pd.to_datetime(df['pickup_datetime']).dt.hour\n",
    "    df['hour'] = pd.to_numeric(df['hour'])\n",
    "    df['cday'] = pd.to_datetime(df['pickup_datetime']).dt.dayofweek #0:lunes,6:domingo\n",
    "    df['cday'] = pd.to_numeric(df['cday'])\n",
    "    df['month'] = pd.to_datetime(df['pickup_datetime']).dt.month #1:enero, 12: diciembre\n",
    "    df['month'] = pd.to_numeric(df['month'])\n",
    "    \"\"\"Feature Generation\"\"\"\n",
    "    df['distancia_viaje'] = np.sqrt( np.square(df['pickup_longitude']-df['dropoff_longitude']) \n",
    "                                    + np.square(df['pickup_latitude']-df['dropoff_latitude'])) #euclideana\n",
    "    distancia_real_aprox = [ distance(df['pickup_latitude'].values[i], \n",
    "                                 df['pickup_longitude'].values[i],\n",
    "                                 df['dropoff_latitude'].values[i],\n",
    "                                 df['dropoff_longitude'].values[i]) for i in range(len(df['pickup_latitude']))]\n",
    "    df['distancia_viaje_km'] = distancia_real_aprox\n",
    "    df['grado_direccion'] = [ grado(df['pickup_latitude'].values[i],  #agregar direccion (en base a grado)\n",
    "                                 df['pickup_longitude'].values[i],\n",
    "                                 df['dropoff_latitude'].values[i],\n",
    "                                 df['dropoff_longitude'].values[i]) for i in range(len(df['pickup_latitude']))]\n",
    "    seasons = [0,0,1,1,1,2]  #0: winter, 1: spring, 2: summer\n",
    "    df['season'] = [ seasons[df['month'].values[i] - 1] for i in range(len(df['month'])) ]  #agregar temporada\n",
    "    df['holiday'] = df['pickup_datetime'].isin(holidays) #holidays\n",
    "    \"\"\" Eliminar columnas -- limpiar\"\"\"\n",
    "    df.drop([\"pickup_datetime\",\"dropoff_datetime\",\"id\",\"vendor_id\",\"store_and_fwd_flag\"], axis=1,inplace=True)\n",
    "    df[\"holiday\"] = df[\"holiday\"].astype('category')#a categorico\n",
    "    \"\"\"codifica\"\"\"\n",
    "    cat_columns = df.select_dtypes(['category']).columns\n",
    "    df[cat_columns] = df[cat_columns].apply(lambda x: x.cat.codes)\n",
    "preprocesar(df)\n",
    "df.head()"
   ]
  },
  {
   "cell_type": "markdown",
   "metadata": {},
   "source": [
    "> d) Cree las estructuras de los datos a utilizar, además de crear el conjunto de pruebas para validar los modelos ¿Cuáles son las dimensiones de cada conjunto? Normalice los datos, elija algún *scaler* y comente sobre su decisión."
   ]
  },
  {
   "cell_type": "code",
   "execution_count": 8,
   "metadata": {},
   "outputs": [],
   "source": [
    "y = df['trip_duration'].values\n",
    "df.drop(\"trip_duration\",axis=1,inplace=True)\n",
    "X = df.values\n",
    "from sklearn.model_selection import train_test_split\n",
    "X_train, X_test, y_train, y_test = train_test_split(X, y, test_size=0.3, random_state=42)\n",
    "from sklearn.preprocessing import RobustScaler,StandardScaler\n",
    "scaler = StandardScaler(with_mean=True, with_std=True)\n",
    "scaler = RobustScaler(with_centering=True, with_scaling=True)\n",
    "scaler.fit(X_train)\n",
    "\n",
    "\n",
    "y_train=y_train[0:100000]\n",
    "y_test = y_test[0:100000]\n",
    "X_train_scaled = scaler.transform(X_train)\n",
    "X_train_scaled = X_train_scaled[0:100000]\n",
    "X_test_scaled = scaler.transform(X_test)\n",
    "X_test_scaled = X_test_scaled[0:100000]\n"
   ]
  },
  {
   "cell_type": "markdown",
   "metadata": {},
   "source": [
    "> e) En base a la definición del problema de ésta sección y a lo experimentado en la sección 1, escoga un modelo de aprendizaje para experimentar en la predicción de la duración del viaje, comente sobre su decisión. Entrene el modelo escogido, usando parámetros por defecto, sobre la representación escalada generada anteriormente y mida el error de la competencia RMSLE sobre ambos conjuntos, comente."
   ]
  },
  {
   "cell_type": "code",
   "execution_count": 9,
   "metadata": {},
   "outputs": [
    {
     "name": "stdout",
     "output_type": "stream",
     "text": [
      "ERROR RMSLE de training:  0.0005953344550069709\n",
      "ERROR RMSLE de test:  0.5406477972142476\n",
      "tiempo bloque 5.954071521759033\n"
     ]
    },
    {
     "data": {
      "image/png": "[encoded data removed]",
      "text/plain": [
       "<Figure size 864x576 with 1 Axes>"
      ]
     },
     "metadata": {},
     "output_type": "display_data"
    }
   ],
   "source": [
    "from sklearn.tree import DecisionTreeRegressor\n",
    "import time\n",
    "start = time.time()\n",
    "model =DecisionTreeRegressor()#SVM, Decision Trees or Neural Network\n",
    "model.fit(X_train_scaled,y_train)\n",
    "print (\"ERROR RMSLE de training: \", rmsle(model.predict(X_train_scaled),y_train))\n",
    "print (\"ERROR RMSLE de test: \", rmsle(model.predict(X_test_scaled),y_test))\n",
    "end = time.time()\n",
    "print(\"tiempo bloque\", end-start)\n",
    "graficar_predicciones(y_test,model.predict(X_test_scaled))"
   ]
  },
  {
   "cell_type": "markdown",
   "metadata": {},
   "source": [
    "> f) Grafique las predicciones generadas por su modelo *vs* el valor real ¿Cuál es el comportamiento esperado? ¿Su resultado se asemeja a éste? ¿Por qué?"
   ]
  },
  {
   "cell_type": "code",
   "execution_count": 12,
   "metadata": {},
   "outputs": [
    {
     "data": {
      "image/png": "[encoded data removed]",
      "text/plain": [
       "<Figure size 864x576 with 1 Axes>"
      ]
     },
     "metadata": {},
     "output_type": "display_data"
    }
   ],
   "source": [
    "\n",
    "graficar_predicciones(y_test,model.predict(X_test_scaled))"
   ]
  },
  {
   "cell_type": "markdown",
   "metadata": {},
   "source": [
    "> g) Mejore el desempeño del modelo de aprendizaje definido en e) haciendo modificaciones a los hiper-parámetros del modelo. Por ejemplo, tener ojo con el sobre-ajuste del modelo. Naturalmente, está absolutamente prohibido tomar este tipo de decisiones en función del resultado de pruebas. Debe realizar estas elecciones evaluando sobre el conjunto de validación. Si no desea utilizarlo, y prefiere implementar validación cruzada u otra técnica automática, tiene la ventaja de poder usar el conjunto de validación como parte del entrenamiento. "
   ]
  },
  {
   "cell_type": "code",
   "execution_count": null,
   "metadata": {},
   "outputs": [],
   "source": [
    "from sklearn.tree import DecisionTreeRegressor\n",
    "import time\n",
    "error_ltrain = []\n",
    "error_ltest = []\n",
    "lx =[]\n",
    "ltime = []\n",
    "for i in range(0,1000):\n",
    "    start = time.time()\n",
    "    model =DecisionTreeRegressor(max_depth=i+1)#SVM, Decision Trees or Neural Network\n",
    "    model.fit(X_train_scaled,y_train)\n",
    "    error_train =  rmsle(model.predict(X_train_scaled),y_train)\n",
    "    error_test =  rmsle(model.predict(X_test_scaled),y_test)\n",
    "    error_ltrain.append(error_train)\n",
    "    error_ltest.append(error_test)\n",
    "    lx.append(i)\n",
    "    end = time.time()\n",
    "    ltime.append(end-start)\n",
    "\n"
   ]
  },
  {
   "cell_type": "code",
   "execution_count": null,
   "metadata": {},
   "outputs": [],
   "source": [
    "import matplotlib.pyplot as plt\n",
    "\n",
    "plt.plot(lx,ltime)#Esto es para medir el tiempo, solo por curiosidad."
   ]
  },
  {
   "cell_type": "code",
   "execution_count": null,
   "metadata": {},
   "outputs": [],
   "source": [
    "plt.plot(lx,error_ltrain)\n",
    "plt.plot(lx,error_ltest)"
   ]
  },
  {
   "cell_type": "code",
   "execution_count": null,
   "metadata": {},
   "outputs": [],
   "source": [
    "critical(error_ltrain,error_ltest)"
   ]
  },
  {
   "cell_type": "markdown",
   "metadata": {},
   "source": [
    "> h) Mejore el modelo de aprendizaje definido en el punto anterior, g), haciendo modificaciones sobre la representación utilizada para aprender desde los datos, es decir, *feature engineering* [[6]](#refs). Ya sea añadir nuevas características (puede inspirarse en los __[códigos](https://www.kaggle.com/c/nyc-taxi-trip-duration/kernels)__ de la gente en la competencia), como por ejemplo rescatar algo más de la fecha, como el año o los minutos, o algo de la ubicación y la distancia geográfica. También está la opción de utilizar lo visto en la tarea 1, de *feature selection* con FSS, *Mutual Information*, etc. Sea creativo, este paso le debiese reportar un salto de calidad muy significativo (RMSLE disminuir en 0.1 sobre el conjunto de pruebas)."
   ]
  },
  {
   "cell_type": "markdown",
   "metadata": {},
   "source": [
    "Sinceramente no consideraria el pre procesamiento realizado par las fechas anteriormente para hacer pasar los atributos por cambios categoricos para la hora, epoca y otras cosas."
   ]
  },
  {
   "cell_type": "code",
   "execution_count": null,
   "metadata": {},
   "outputs": [],
   "source": [
    "df1 = pd.read_csv(\"train.csv\")#Tomo los datos denuevo para hacer otro preprocesamiento\n",
    "df1 = df1[(df1['trip_duration']<=10000)]"
   ]
  },
  {
   "cell_type": "markdown",
   "metadata": {},
   "source": [
    "La solución que se desea implementar consiste en considerar la mayor cantidad de variables que podrían influir como por ejemplo el año para despues pasar por una selección de atributos a través de Z score"
   ]
  },
  {
   "cell_type": "code",
   "execution_count": null,
   "metadata": {},
   "outputs": [],
   "source": [
    "from geopy.distance import great_circle\n",
    "import numpy as np\n",
    "\n",
    "\"\"\"extraer caract geograficas\"\"\"\n",
    "def distance(p_lat,p_long,d_lat,d_long):\n",
    "    pickup = (p_lat, p_long)\n",
    "    dropoff = (d_lat, d_long)\n",
    "    distance_all=great_circle(pickup, dropoff).km\n",
    "    return distance_all\n",
    "def grado(p_lat,p_long,d_lat,d_long):\n",
    "    lat1= np.radians(p_lat)\n",
    "    lat2= np.radians(d_lat)\n",
    "    dLon = np.radians(d_long - p_long)\n",
    "    y = np.sin(dLon)*np.cos(lat2)\n",
    "    x = np.cos(lat1)*np.sin(lat2) - np.sin(lat1)*np.cos(lat2)*np.cos(dLon)\n",
    "    return (np.degrees( np.arctan2(y,x) ) + 360 ) %360\n",
    "from pandas.tseries.holiday import USFederalHolidayCalendar\n",
    "cal = USFederalHolidayCalendar()\n",
    "holidays = cal.holidays(start='2015',end='2017')\n",
    "def preprocesar_2(df1):\n",
    "    df1.fillna(0,inplace=True)\n",
    "    \"\"\"transformar fechas a tiempos\"\"\"\n",
    "    df1['hour'] = pd.to_datetime(df1['pickup_datetime']).dt.hour\n",
    "    df1['hour'] = pd.to_numeric(df1['hour'])\n",
    "    df1['cday'] = pd.to_datetime(df1['pickup_datetime']).dt.dayofweek #0:lunes,6:domingo\n",
    "    df1['cday'] = pd.to_numeric(df1['cday'])\n",
    "    df1['month'] = pd.to_datetime(df1['pickup_datetime']).dt.month #1:enero, 12: diciembre\n",
    "    df1['month'] = pd.to_numeric(df1['month'])\n",
    "    df1['year'] = pd.to_datetime(df1['pickup_datetime']).dt.year #1:enero, 12: diciembre\n",
    "    df1['year'] = pd.to_numeric(df1['month'])\n",
    "    \n",
    "    \"\"\"Feature Generation\"\"\"\n",
    "    df1['distancia_viaje'] = np.sqrt( np.square(df1['pickup_longitude']-df1['dropoff_longitude']) \n",
    "                                    + np.square(df1['pickup_latitude']-df1['dropoff_latitude'])) #euclideana\n",
    "    distancia_real_aprox = [ distance(df1['pickup_latitude'].values[i], \n",
    "                                 df1['pickup_longitude'].values[i],\n",
    "                                 df1['dropoff_latitude'].values[i],\n",
    "                                 df1['dropoff_longitude'].values[i]) for i in range(len(df1['pickup_latitude']))]\n",
    "    df1['distancia_viaje_km'] = distancia_real_aprox\n",
    "    df1['grado_direccion'] = [ grado(df1['pickup_latitude'].values[i],  #agregar direccion (en base a grado)\n",
    "                                 df1['pickup_longitude'].values[i],\n",
    "                                 df1['dropoff_latitude'].values[i],\n",
    "                                 df1['dropoff_longitude'].values[i]) for i in range(len(df1['pickup_latitude']))]\n",
    "    seasons = [0,0,1,1,1,2]  #0: winter, 1: spring, 2: summer\n",
    "    df1['season'] = [ seasons[df1['month'].values[i] - 1] for i in range(len(df1['month'])) ]  #agregar temporada\n",
    "    df1['holiday'] = df1['pickup_datetime'].isin(holidays) #holidays\n",
    "    \"\"\" Eliminar columnas -- limpiar\"\"\"\n",
    "    df1.drop([\"pickup_datetime\",\"dropoff_datetime\",\"id\",\"vendor_id\",\"store_and_fwd_flag\"], axis=1,inplace=True)\n",
    "    df1[\"holiday\"] = df1[\"holiday\"].astype('category')#a categorico\n",
    "    \"\"\"codifica\"\"\"\n",
    "    cat_columns = df1.select_dtypes(['category']).columns\n",
    "    df1[cat_columns] = df1[cat_columns].apply(lambda x: x.cat.codes)\n",
    "preprocesar_2(df1)\n",
    "\n",
    "#\n",
    "\n",
    "X = df1.values\n",
    "from sklearn.model_selection import train_test_split\n",
    "X_train, X_test, y_train, y_test = train_test_split(X, y, test_size=0.3, random_state=42)\n",
    "from sklearn.preprocessing import RobustScaler,StandardScaler\n",
    "scaler = StandardScaler(with_mean=True, with_std=True)\n",
    "scaler = RobustScaler(with_centering=True, with_scaling=True)\n",
    "scaler.fit(X_train)\n",
    "\n",
    "\n",
    "y_train=y_train[0:100000]\n",
    "y_test = y_test[0:100000]\n",
    "X_train_scaled = scaler.transform(X_train)\n",
    "X_train_scaled = X_train_scaled[0:100000]\n",
    "X_test_scaled = scaler.transform(X_test)\n",
    "X_test_scaled = X_test_scaled[0:100000]"
   ]
  },
  {
   "cell_type": "markdown",
   "metadata": {},
   "source": [
    "No consideró categorizar los años,pues  si la regresión lineal estuviese en un caso ideal, sería similar a un interpolador de lagrange [Link](https://en.wikipedia.org/wiki/Lagrange_polynomial). Esto considera el supuesto de que si se comportase de manera similar, nuestra función f:R->R sería de la forma \"f(x) = a(x-2015)+b(x-2016)+c(x-2017)+ j\" con j una constante que simbolize el ruido que hay entre los distintos años. No se considera un grado mayor a 1 del polinomio por la naturaleza del problema.\n",
    "\n",
    "Además otra alternativa a considerar es la eliminacion de datos anomalos en la regresión, es decir, viajes que exista certeza alguna de que haya salido algo mal en cuanto al registro. Esto considera casos que se disparan en tiempo, ya que esto se midió al principio, sino aquellos tiempos en los cuales dada una ubicacion relativa, tarde más de lo quedebería tomando en cuenta un retraso que dependa tambien de la distancia recorrida.\n",
    "\n",
    "Tambien cabe destacar que a pesar de tener toda la informacion respecto al viaje en taxi, no se considera la información del pasajero, por lo que las siguientes situaciones podrían ser las que afectan a nuestros resultados:\n",
    "\n",
    "- Malas mediciones:\n",
    "- Del Conductor\n",
    "    - Ocacionadas por el conductor\n",
    "    - por considerar o no subir-bajar equipaje\n",
    "    - cada conductor conduce diferente ()\n",
    "- Situacionales:\n",
    "    - Accidentes\n",
    "    - congestion vehicular\n",
    "    - fechas especiales\n",
    "- Del pasajero:\n",
    "    - Se baja antes\n",
    "    -lleva equipaje \n",
    "    \n",
    "por lo que existe una manera de reducir el error comparandolo con el trayecto más similar y deshechar aquellos datos que generen más ruido."
   ]
  },
  {
   "cell_type": "code",
   "execution_count": null,
   "metadata": {},
   "outputs": [],
   "source": [
    "from sklearn.tree import DecisionTreeRegressor\n",
    "import time\n",
    "start = time.time()\n",
    "error_min = 9999\n",
    "error = 9999\n",
    "depth = 1\n",
    "for i in range(101):\n",
    "    model =DecisionTreeRegressor(splitter = \"best\",max_depth=i+1)#SVM, Decision Trees or Neural Network\n",
    "    model.fit(X_train_scaled,y_train)\n",
    "   # rmsle(model.predict(X_train_scaled),y_train)\n",
    "    error = rmsle(model.predict(X_test_scaled),y_test)\n",
    "    if error<error_min:\n",
    "        depth = i+1\n",
    "        error_min = error\n",
    "\n",
    "        \n",
    "model =DecisionTreeRegressor(splitter = \"best\",max_depth=depth)#SVM, Decision Trees or Neural Network\n",
    "model.fit(X_train_scaled,y_train)  \n",
    "print(\"Resultado optimo con parametro max_depth = \",depth)\n",
    "print (\"ERROR RMSLE de training: \", rmsle(model.predict(X_train_scaled),y_train))\n",
    "print (\"ERROR RMSLE de test: \", rmsle(model.predict(X_test_scaled),y_test))        \n",
    "        \n",
    "end = time.time()\n",
    "print(\"tiempo bloque\", end-start)\n",
    "graficar_predicciones(y_test,model.predict(X_test_scaled))"
   ]
  },
  {
   "cell_type": "markdown",
   "metadata": {},
   "source": [
    "> i) Ahora intente mejorar el modelo de aprendizaje definido en el punto anterior a través de alguna transformación al *output*. Por ejemplo, los histogramas que construyó en el punto a), ası́ como la forma especial de la función de evaluación, sugieren una cierta transformación de la variable respuesta (*output/target*). Una observación importante es que si hace una transformación a la variable respuesta (por ejemplo raı́z cuadrada), debe invertir esta transformación antes de evaluar el desempeño con la métrica de desempeño (por ejemplo, elevar al cuadrado si tomó raı́z cuadrada). Con ésto debería llegar a reducir el RMSLE a menos de 0.5."
   ]
  },
  {
   "cell_type": "code",
   "execution_count": null,
   "metadata": {},
   "outputs": [],
   "source": [
    "#mi proposicion para esta parte es trabsformar todo a horas o simplemente categorizar los horarios "
   ]
  },
  {
   "cell_type": "markdown",
   "metadata": {},
   "source": [
    "> j) Evalúe el efecto de utilizar un ensamblado (combinación) de 2 máquinas de aprendizaje para predecir la duración de un viaje en taxi. Un modelo se especializará en la predicción de la duración de viajes de corta distancia, mientras que el otro modelo se enfocará en la predicción de la duración de viajes de larga distancia. Para la separación considere la media aritmética como el *split*. Hay razones claras para pensar que los patrones son distintos ¿Por qué? Puede mezclar distintos modelos de aprendizaje para cada subconjunto de dato de entrenamiento."
   ]
  },
  {
   "cell_type": "code",
   "execution_count": null,
   "metadata": {},
   "outputs": [],
   "source": [
    "\"\"\"Separar viajes largos de viajes cortos\"\"\"\n",
    "u = np.mean(X_train[\"distancia_viaje_km\"])\n",
    "mask = X_train[\"distancia_viaje_km\"] <= u\n",
    "X_train_1 = X_train[mask] #viaje cortos\n",
    "y_train_1 = y_train[mask]\n",
    "X_train_2 = X_train[~mask] #viaje largos\n",
    "y_train_2 = y_train[~mask]"
   ]
  }
 ],
 "metadata": {
  "kernelspec": {
   "display_name": "Python 3",
   "language": "python",
   "name": "python3"
  },
  "language_info": {
   "codemirror_mode": {
    "name": "ipython",
    "version": 3
   },
   "file_extension": ".py",
   "mimetype": "text/x-python",
   "name": "python",
   "nbconvert_exporter": "python",
   "pygments_lexer": "ipython3",
   "version": "3.6.5"
  }
 },
 "nbformat": 4,
 "nbformat_minor": 2
}
